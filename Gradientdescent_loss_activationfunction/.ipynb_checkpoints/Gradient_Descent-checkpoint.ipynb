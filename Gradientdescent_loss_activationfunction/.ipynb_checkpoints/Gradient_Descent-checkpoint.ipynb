{
 "cells": [
  {
   "cell_type": "code",
   "execution_count": 13,
   "id": "bb859ee9",
   "metadata": {},
   "outputs": [],
   "source": [
    "import tensorflow as tf\n",
    "from tensorflow import keras\n",
    "import pandas as pd\n",
    "import numpy as np\n",
    "import matplotlib.pyplot as plt\n",
    "import math"
   ]
  },
  {
   "cell_type": "markdown",
   "id": "921ce706",
   "metadata": {},
   "source": [
    "# Different Activation function in neural network"
   ]
  },
  {
   "cell_type": "markdown",
   "id": "a2108768",
   "metadata": {},
   "source": [
    "### Sigmoid Function"
   ]
  },
  {
   "cell_type": "code",
   "execution_count": 26,
   "id": "ae0200f9",
   "metadata": {},
   "outputs": [
    {
     "name": "stdout",
     "output_type": "stream",
     "text": [
      "sigmoid of 100 is  1.0\n",
      "sigmoid of -1 is  0.2689414213699951\n",
      "sigmoid of -213 is  3.1280620156019903e-93\n",
      "sigmoid of -2.13 is  0.10621499167517556\n",
      "sigmoid of 5.4 is  0.9955037268390589\n"
     ]
    }
   ],
   "source": [
    "def sigmoid(x):\n",
    "    return 1 / (1 + math.exp(-x))\n",
    "\n",
    "print(\"sigmoid of 100 is \",sigmoid(100))\n",
    "print(\"sigmoid of -1 is \",sigmoid(-1))\n",
    "print(\"sigmoid of -213 is \",sigmoid(-213))\n",
    "print(\"sigmoid of -2.13 is \",sigmoid(-2.13))\n",
    "print(\"sigmoid of 5.4 is \",sigmoid(5.4))"
   ]
  },
  {
   "cell_type": "markdown",
   "id": "eb78b7b2",
   "metadata": {},
   "source": [
    "### Tanh function "
   ]
  },
  {
   "cell_type": "code",
   "execution_count": 25,
   "id": "8926f8b0",
   "metadata": {},
   "outputs": [
    {
     "name": "stdout",
     "output_type": "stream",
     "text": [
      "tanh of 100 is  1.0\n",
      "tanh of 1 is  0.7615941559557649\n",
      "tanh of -231 is  -1.0\n",
      "tanh of -2.31 is  -0.9804866687508972\n",
      "tanh of 1.673 is  0.9319472124414587\n"
     ]
    }
   ],
   "source": [
    "def tanh(x):\n",
    "    return (math.exp(x) - math.exp(-x)) / (math.exp(x) + math.exp(-x))\n",
    "\n",
    "print(\"tanh of 100 is \",tanh(100))\n",
    "print(\"tanh of 1 is \",tanh(1))\n",
    "print(\"tanh of -231 is \",tanh(-231))\n",
    "print(\"tanh of -2.31 is \",tanh(-2.31))\n",
    "print(\"tanh of 1.673 is \",tanh(1.673))"
   ]
  },
  {
   "cell_type": "markdown",
   "id": "1ee3fdd3",
   "metadata": {},
   "source": [
    "### Relu function "
   ]
  },
  {
   "cell_type": "code",
   "execution_count": 24,
   "id": "7e41a20d",
   "metadata": {},
   "outputs": [
    {
     "name": "stdout",
     "output_type": "stream",
     "text": [
      "relu of 100 is 100\n",
      "relu of 0.21 is 0.21\n",
      "relu of -32 is 0\n",
      "relu of 0 is 0\n"
     ]
    }
   ],
   "source": [
    "def relu(x):\n",
    "    return max(0,x)\n",
    "\n",
    "print(\"relu of 100 is\",relu(100))\n",
    "print(\"relu of 0.21 is\",relu(0.21))\n",
    "print(\"relu of -32 is\",relu(-32))\n",
    "print(\"relu of 0 is\",relu(0))"
   ]
  },
  {
   "cell_type": "markdown",
   "id": "27a36973",
   "metadata": {},
   "source": [
    "### Leaky relu "
   ]
  },
  {
   "cell_type": "code",
   "execution_count": 27,
   "id": "2fe284ae",
   "metadata": {},
   "outputs": [
    {
     "name": "stdout",
     "output_type": "stream",
     "text": [
      "leaky relu of 100 is 100\n",
      "leaky relu of -32 is -3.2\n",
      "leaky relu of 0 is 0.0\n",
      "leaky relu of -3.232 is -0.32320000000000004\n",
      "leaky relu of 86.1 is 86.1\n"
     ]
    }
   ],
   "source": [
    "def leaky_relu(x):\n",
    "    return max(0.1*x,x)\n",
    "\n",
    "print(\"leaky relu of 100 is\",leaky_relu(100))\n",
    "print(\"leaky relu of -32 is\",leaky_relu(-32))\n",
    "print(\"leaky relu of 0 is\",leaky_relu(0))\n",
    "print(\"leaky relu of -3.232 is\",leaky_relu(-3.232))\n",
    "print(\"leaky relu of 86.1 is\",leaky_relu(86.1))"
   ]
  },
  {
   "cell_type": "markdown",
   "id": "e92b0c36",
   "metadata": {},
   "source": [
    "#  Different Loss in neural network"
   ]
  },
  {
   "cell_type": "markdown",
   "id": "98c89700",
   "metadata": {},
   "source": [
    "### Mean Absolute Error"
   ]
  },
  {
   "cell_type": "code",
   "execution_count": 28,
   "id": "52cf4a52",
   "metadata": {},
   "outputs": [],
   "source": [
    "y_predicted=np.array([1,1,0,0,1])\n",
    "y_true=np.array([0.30,0.7,1,0,0.5])"
   ]
  },
  {
   "cell_type": "code",
   "execution_count": 32,
   "id": "895b4cdd",
   "metadata": {},
   "outputs": [],
   "source": [
    "# mean absolute error without using numpy"
   ]
  },
  {
   "cell_type": "code",
   "execution_count": 36,
   "id": "2c702d0f",
   "metadata": {},
   "outputs": [
    {
     "name": "stdout",
     "output_type": "stream",
     "text": [
      "Total error is :  2.5\n",
      "MAE is :  0.5\n",
      "0.5\n"
     ]
    }
   ],
   "source": [
    "def mae_without_numpy(y_true,y_predicted):\n",
    "    total_error = 0\n",
    "    for yt,yp in zip(y_true,y_predicted):\n",
    "        total_error += abs(yt-yp)\n",
    "    print('Total error is : ',total_error)\n",
    "    mae = total_error/len(y_true)\n",
    "    print('MAE is : ',mae)\n",
    "    return mae\n",
    "\n",
    "print(mae_without_numpy(y_true,y_predicted))"
   ]
  },
  {
   "cell_type": "code",
   "execution_count": 33,
   "id": "c3a3495a",
   "metadata": {},
   "outputs": [],
   "source": [
    "# mean absolute error using numpy"
   ]
  },
  {
   "cell_type": "code",
   "execution_count": 39,
   "id": "1da10c47",
   "metadata": {},
   "outputs": [
    {
     "name": "stdout",
     "output_type": "stream",
     "text": [
      "MAE is :  0.5\n",
      "0.5\n"
     ]
    }
   ],
   "source": [
    "def mae_using_numpy(y_true,y_predicted):\n",
    "    mae=np.mean(np.abs(y_predicted - y_true))\n",
    "    print('MAE is : ',mae)\n",
    "    return mae\n",
    "          \n",
    "print(mae_using_numpy(y_true,y_predicted))"
   ]
  },
  {
   "cell_type": "markdown",
   "id": "5fc0255e",
   "metadata": {},
   "source": [
    "### Mean Squared Error "
   ]
  },
  {
   "cell_type": "code",
   "execution_count": null,
   "id": "28fa40be",
   "metadata": {},
   "outputs": [],
   "source": [
    "# mean squared error without using numpy"
   ]
  },
  {
   "cell_type": "code",
   "execution_count": 40,
   "id": "0a289ee1",
   "metadata": {},
   "outputs": [
    {
     "name": "stdout",
     "output_type": "stream",
     "text": [
      "Total error is :  1.83\n",
      "MSE is :  0.366\n",
      "0.366\n"
     ]
    }
   ],
   "source": [
    "def mse_without_numpy(y_true,y_predicted):\n",
    "    total_error = 0\n",
    "    for yt,yp in zip(y_true,y_predicted):\n",
    "        total_error += (yt-yp)**2\n",
    "    print('Total error is : ',total_error)\n",
    "    mse = total_error/len(y_true)\n",
    "    print('MSE is : ',mse)\n",
    "    return mse\n",
    "\n",
    "print(mse_without_numpy(y_true,y_predicted))"
   ]
  },
  {
   "cell_type": "code",
   "execution_count": null,
   "id": "c65efd0e",
   "metadata": {},
   "outputs": [],
   "source": [
    "def ms_using_numpy(y_true,y_predicted):\n",
    "    ms=np.mean(np.square(y_predicted - y_true))\n",
    "    print('M\n",
    "    return mae\n",
    "          \n",
    "print(mae_using_numpy(y_true,y_predicted))"
   ]
  }
 ],
 "metadata": {
  "kernelspec": {
   "display_name": "Python 3 (ipykernel)",
   "language": "python",
   "name": "python3"
  },
  "language_info": {
   "codemirror_mode": {
    "name": "ipython",
    "version": 3
   },
   "file_extension": ".py",
   "mimetype": "text/x-python",
   "name": "python",
   "nbconvert_exporter": "python",
   "pygments_lexer": "ipython3",
   "version": "3.11.3"
  }
 },
 "nbformat": 4,
 "nbformat_minor": 5
}
