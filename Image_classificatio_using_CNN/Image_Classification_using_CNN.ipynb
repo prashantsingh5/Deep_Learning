{
 "cells": [
  {
   "cell_type": "code",
   "execution_count": 1,
   "id": "ae36b6b1",
   "metadata": {},
   "outputs": [],
   "source": [
    "import pandas as pd\n",
    "import numpy as np\n",
    "import matplotlib.pyplot as plt\n",
    "import tensorflow as tf\n",
    "from tensorflow import keras\n",
    "from sklearn.metrics import confusion_matrix , classification_report"
   ]
  },
  {
   "cell_type": "code",
   "execution_count": 2,
   "id": "cdc5f49a",
   "metadata": {},
   "outputs": [
    {
     "data": {
      "text/plain": [
       "(50000, 32, 32, 3)"
      ]
     },
     "execution_count": 2,
     "metadata": {},
     "output_type": "execute_result"
    }
   ],
   "source": [
    "(x_train, y_train) , (x_test, y_test) = keras.datasets.cifar10.load_data()\n",
    "x_train.shape"
   ]
  },
  {
   "cell_type": "code",
   "execution_count": 3,
   "id": "9fd038a9",
   "metadata": {},
   "outputs": [
    {
     "data": {
      "text/plain": [
       "array([[ 59,  62,  63],\n",
       "       [ 43,  46,  45],\n",
       "       [ 50,  48,  43],\n",
       "       [ 68,  54,  42],\n",
       "       [ 98,  73,  52],\n",
       "       [119,  91,  63],\n",
       "       [139, 107,  75],\n",
       "       [145, 110,  80],\n",
       "       [149, 117,  89],\n",
       "       [149, 120,  93],\n",
       "       [131, 103,  77],\n",
       "       [125,  99,  76],\n",
       "       [142, 115,  91],\n",
       "       [144, 112,  86],\n",
       "       [137, 105,  79],\n",
       "       [129,  97,  71],\n",
       "       [137, 106,  79],\n",
       "       [134, 106,  76],\n",
       "       [124,  97,  64],\n",
       "       [139, 113,  78],\n",
       "       [139, 112,  75],\n",
       "       [133, 105,  69],\n",
       "       [136, 105,  74],\n",
       "       [139, 108,  77],\n",
       "       [152, 120,  89],\n",
       "       [163, 131, 100],\n",
       "       [168, 136, 108],\n",
       "       [159, 129, 102],\n",
       "       [158, 130, 104],\n",
       "       [158, 132, 108],\n",
       "       [152, 125, 102],\n",
       "       [148, 124, 103]], dtype=uint8)"
      ]
     },
     "execution_count": 3,
     "metadata": {},
     "output_type": "execute_result"
    }
   ],
   "source": [
    "x_train[0][0]"
   ]
  },
  {
   "cell_type": "code",
   "execution_count": 4,
   "id": "0dec85e9",
   "metadata": {},
   "outputs": [
    {
     "data": {
      "text/plain": [
       "(10000, 32, 32, 3)"
      ]
     },
     "execution_count": 4,
     "metadata": {},
     "output_type": "execute_result"
    }
   ],
   "source": [
    "x_test.shape"
   ]
  },
  {
   "cell_type": "code",
   "execution_count": 5,
   "id": "52eed99d",
   "metadata": {},
   "outputs": [
    {
     "data": {
      "text/plain": [
       "array([6, 9, 9, 4], dtype=uint8)"
      ]
     },
     "execution_count": 5,
     "metadata": {},
     "output_type": "execute_result"
    }
   ],
   "source": [
    "y_train=y_train.reshape(-1,)\n",
    "y_train[:4]"
   ]
  },
  {
   "cell_type": "code",
   "execution_count": 6,
   "id": "d8225f01",
   "metadata": {},
   "outputs": [],
   "source": [
    "classes = [\"airplane\",\"automobile\",\"bird\",\"cat\",\"dear\",\"dog\",\"frog\",\"horse\",\"ship\",\"truck\"]"
   ]
  },
  {
   "cell_type": "code",
   "execution_count": 7,
   "id": "6cdb2851",
   "metadata": {},
   "outputs": [],
   "source": [
    "def plot_sample(x,y,index):\n",
    "    plt.figure(figsize=(15,2))\n",
    "    plt.imshow(x[index])\n",
    "    plt.xlabel(classes[y[index]])"
   ]
  },
  {
   "cell_type": "code",
   "execution_count": 8,
   "id": "ae619f76",
   "metadata": {},
   "outputs": [
    {
     "data": {
      "image/png": "[encoded data removed]",
      "text/plain": [
       "<Figure size 1500x200 with 1 Axes>"
      ]
     },
     "metadata": {},
     "output_type": "display_data"
    }
   ],
   "source": [
    "plot_sample(x_train,y_train,7)"
   ]
  },
  {
   "cell_type": "code",
   "execution_count": 9,
   "id": "8a4e2275",
   "metadata": {},
   "outputs": [],
   "source": [
    "x_train = x_train/255\n",
    "x_test = x_test/255"
   ]
  },
  {
   "cell_type": "code",
   "execution_count": 10,
   "id": "3d0715aa",
   "metadata": {},
   "outputs": [
    {
     "data": {
      "text/plain": [
       "array([[0.23137255, 0.24313725, 0.24705882],\n",
       "       [0.16862745, 0.18039216, 0.17647059],\n",
       "       [0.19607843, 0.18823529, 0.16862745],\n",
       "       [0.26666667, 0.21176471, 0.16470588],\n",
       "       [0.38431373, 0.28627451, 0.20392157],\n",
       "       [0.46666667, 0.35686275, 0.24705882],\n",
       "       [0.54509804, 0.41960784, 0.29411765],\n",
       "       [0.56862745, 0.43137255, 0.31372549],\n",
       "       [0.58431373, 0.45882353, 0.34901961],\n",
       "       [0.58431373, 0.47058824, 0.36470588],\n",
       "       [0.51372549, 0.40392157, 0.30196078],\n",
       "       [0.49019608, 0.38823529, 0.29803922],\n",
       "       [0.55686275, 0.45098039, 0.35686275],\n",
       "       [0.56470588, 0.43921569, 0.3372549 ],\n",
       "       [0.5372549 , 0.41176471, 0.30980392],\n",
       "       [0.50588235, 0.38039216, 0.27843137],\n",
       "       [0.5372549 , 0.41568627, 0.30980392],\n",
       "       [0.5254902 , 0.41568627, 0.29803922],\n",
       "       [0.48627451, 0.38039216, 0.25098039],\n",
       "       [0.54509804, 0.44313725, 0.30588235],\n",
       "       [0.54509804, 0.43921569, 0.29411765],\n",
       "       [0.52156863, 0.41176471, 0.27058824],\n",
       "       [0.53333333, 0.41176471, 0.29019608],\n",
       "       [0.54509804, 0.42352941, 0.30196078],\n",
       "       [0.59607843, 0.47058824, 0.34901961],\n",
       "       [0.63921569, 0.51372549, 0.39215686],\n",
       "       [0.65882353, 0.53333333, 0.42352941],\n",
       "       [0.62352941, 0.50588235, 0.4       ],\n",
       "       [0.61960784, 0.50980392, 0.40784314],\n",
       "       [0.61960784, 0.51764706, 0.42352941],\n",
       "       [0.59607843, 0.49019608, 0.4       ],\n",
       "       [0.58039216, 0.48627451, 0.40392157]])"
      ]
     },
     "execution_count": 10,
     "metadata": {},
     "output_type": "execute_result"
    }
   ],
   "source": [
    "x_train[0][0]"
   ]
  },
  {
   "cell_type": "markdown",
   "id": "695b7922",
   "metadata": {},
   "source": [
    "# using simple neural network"
   ]
  },
  {
   "cell_type": "code",
   "execution_count": 11,
   "id": "ec466eb9",
   "metadata": {},
   "outputs": [
    {
     "name": "stdout",
     "output_type": "stream",
     "text": [
      "Epoch 1/5\n",
      "1563/1563 [==============================] - 143s 91ms/step - loss: 1.8117 - accuracy: 0.3573\n",
      "Epoch 2/5\n",
      "1563/1563 [==============================] - 145s 93ms/step - loss: 1.6231 - accuracy: 0.4265\n",
      "Epoch 3/5\n",
      "1563/1563 [==============================] - 147s 94ms/step - loss: 1.5441 - accuracy: 0.4566\n",
      "Epoch 4/5\n",
      "1563/1563 [==============================] - 144s 92ms/step - loss: 1.4838 - accuracy: 0.4773\n",
      "Epoch 5/5\n",
      "1563/1563 [==============================] - 143s 91ms/step - loss: 1.4351 - accuracy: 0.4941\n"
     ]
    },
    {
     "data": {
      "text/plain": [
       "<keras.src.callbacks.History at 0x1dbc129ee10>"
      ]
     },
     "execution_count": 11,
     "metadata": {},
     "output_type": "execute_result"
    }
   ],
   "source": [
    "model = keras.Sequential([\n",
    "        keras.layers.Flatten(input_shape=(32,32,3)),\n",
    "        keras.layers.Dense(3000, activation='relu'),\n",
    "        keras.layers.Dense(1000, activation='relu'),\n",
    "        keras.layers.Dense(10, activation='softmax')    \n",
    "    ])\n",
    "\n",
    "model.compile(optimizer='SGD',\n",
    "              loss='sparse_categorical_crossentropy',\n",
    "              metrics=['accuracy'])\n",
    "\n",
    "model.fit(x_train, y_train, epochs=5)"
   ]
  },
  {
   "cell_type": "code",
   "execution_count": 12,
   "id": "25f06a2c",
   "metadata": {},
   "outputs": [
    {
     "name": "stdout",
     "output_type": "stream",
     "text": [
      "313/313 [==============================] - 8s 22ms/step - loss: 1.4790 - accuracy: 0.4610\n"
     ]
    },
    {
     "data": {
      "text/plain": [
       "[1.4789881706237793, 0.460999995470047]"
      ]
     },
     "execution_count": 12,
     "metadata": {},
     "output_type": "execute_result"
    }
   ],
   "source": [
    "model.evaluate(x_test,y_test)"
   ]
  },
  {
   "cell_type": "code",
   "execution_count": 13,
   "id": "9e89498d",
   "metadata": {},
   "outputs": [
    {
     "name": "stdout",
     "output_type": "stream",
     "text": [
      "313/313 [==============================] - 7s 22ms/step\n",
      "Classification Report: \n",
      "               precision    recall  f1-score   support\n",
      "\n",
      "           0       0.48      0.64      0.55      1000\n",
      "           1       0.69      0.49      0.57      1000\n",
      "           2       0.31      0.48      0.38      1000\n",
      "           3       0.41      0.14      0.21      1000\n",
      "           4       0.54      0.19      0.28      1000\n",
      "           5       0.30      0.60      0.40      1000\n",
      "           6       0.58      0.40      0.48      1000\n",
      "           7       0.51      0.60      0.55      1000\n",
      "           8       0.75      0.43      0.55      1000\n",
      "           9       0.51      0.64      0.56      1000\n",
      "\n",
      "    accuracy                           0.46     10000\n",
      "   macro avg       0.51      0.46      0.45     10000\n",
      "weighted avg       0.51      0.46      0.45     10000\n",
      "\n"
     ]
    }
   ],
   "source": [
    "import numpy as np\n",
    "y_pred = model.predict(x_test)\n",
    "y_pred_classes = [np.argmax(element) for element in y_pred]\n",
    "\n",
    "print(\"Classification Report: \\n\", classification_report(y_test, y_pred_classes))"
   ]
  },
  {
   "cell_type": "code",
   "execution_count": 14,
   "id": "99f11b9a",
   "metadata": {},
   "outputs": [
    {
     "name": "stdout",
     "output_type": "stream",
     "text": [
      "Epoch 1/10\n",
      "1563/1563 [==============================] - 64s 40ms/step - loss: 2.0200 - accuracy: 0.2639\n",
      "Epoch 2/10\n",
      "1563/1563 [==============================] - 62s 39ms/step - loss: 1.6188 - accuracy: 0.4243\n",
      "Epoch 3/10\n",
      "1563/1563 [==============================] - 61s 39ms/step - loss: 1.4364 - accuracy: 0.4884\n",
      "Epoch 4/10\n",
      "1563/1563 [==============================] - 61s 39ms/step - loss: 1.3277 - accuracy: 0.5316\n",
      "Epoch 5/10\n",
      "1563/1563 [==============================] - 61s 39ms/step - loss: 1.2401 - accuracy: 0.5631\n",
      "Epoch 6/10\n",
      "1563/1563 [==============================] - 62s 40ms/step - loss: 1.1722 - accuracy: 0.5909\n",
      "Epoch 7/10\n",
      "1563/1563 [==============================] - 61s 39ms/step - loss: 1.1129 - accuracy: 0.6108\n",
      "Epoch 8/10\n",
      "1563/1563 [==============================] - 61s 39ms/step - loss: 1.0619 - accuracy: 0.6284\n",
      "Epoch 9/10\n",
      "1563/1563 [==============================] - 62s 39ms/step - loss: 1.0196 - accuracy: 0.6464\n",
      "Epoch 10/10\n",
      "1563/1563 [==============================] - 63s 40ms/step - loss: 0.9820 - accuracy: 0.6585\n"
     ]
    },
    {
     "data": {
      "text/plain": [
       "<keras.src.callbacks.History at 0x1dbc1755810>"
      ]
     },
     "execution_count": 14,
     "metadata": {},
     "output_type": "execute_result"
    }
   ],
   "source": [
    "cnn_model = keras.models.Sequential([\n",
    "        #cnn\n",
    "        keras.layers.Conv2D(filters=32,kernel_size=(3,3),activation='relu', input_shape=(32,32,3)),\n",
    "        keras.layers.MaxPooling2D((2,2)),\n",
    "    \n",
    "        keras.layers.Conv2D(filters=64,kernel_size=(3,3),activation='relu'),\n",
    "        keras.layers.MaxPooling2D((2,2)),\n",
    "    \n",
    "        #Dense\n",
    "        keras.layers.Flatten(),\n",
    "        keras.layers.Dense(64, activation='relu'),\n",
    "        keras.layers.Dense(10, activation='softmax')    \n",
    "    ])\n",
    "\n",
    "cnn_model.compile(optimizer='SGD',\n",
    "              loss='sparse_categorical_crossentropy',\n",
    "              metrics=['accuracy'])\n",
    "\n",
    "cnn_model.fit(x_train, y_train, epochs=10)"
   ]
  },
  {
   "cell_type": "code",
   "execution_count": 15,
   "id": "0c0e0d68",
   "metadata": {},
   "outputs": [
    {
     "name": "stdout",
     "output_type": "stream",
     "text": [
      "313/313 [==============================] - 5s 15ms/step - loss: 1.0365 - accuracy: 0.6400\n"
     ]
    },
    {
     "data": {
      "text/plain": [
       "[1.0364588499069214, 0.6399999856948853]"
      ]
     },
     "execution_count": 15,
     "metadata": {},
     "output_type": "execute_result"
    }
   ],
   "source": [
    "cnn_model.evaluate(x_test,y_test)"
   ]
  },
  {
   "cell_type": "code",
   "execution_count": 16,
   "id": "5c34510a",
   "metadata": {},
   "outputs": [],
   "source": [
    "y_test = y_test.reshape(-1,)"
   ]
  },
  {
   "cell_type": "code",
   "execution_count": 17,
   "id": "cace8585",
   "metadata": {},
   "outputs": [
    {
     "data": {
      "image/png": "[encoded data removed]",
      "text/plain": [
       "<Figure size 1500x200 with 1 Axes>"
      ]
     },
     "metadata": {},
     "output_type": "display_data"
    }
   ],
   "source": [
    "plot_sample(x_test,y_test,1)"
   ]
  },
  {
   "cell_type": "code",
   "execution_count": 18,
   "id": "6d6d0e2a",
   "metadata": {},
   "outputs": [
    {
     "name": "stdout",
     "output_type": "stream",
     "text": [
      "313/313 [==============================] - 3s 10ms/step\n"
     ]
    },
    {
     "data": {
      "text/plain": [
       "array([[3.32307369e-02, 2.33297213e-03, 9.23765004e-02, 5.83069563e-01,\n",
       "        2.16175765e-02, 2.10245833e-01, 1.62597280e-02, 4.71792975e-03,\n",
       "        3.46441939e-02, 1.50495477e-03],\n",
       "       [6.74363077e-02, 2.32842505e-01, 2.19239719e-05, 1.16405245e-05,\n",
       "        4.05384671e-05, 6.18127785e-07, 7.07925039e-07, 5.18297884e-06,\n",
       "        6.76256537e-01, 2.33840868e-02],\n",
       "       [2.79971454e-02, 5.88338971e-02, 3.11464886e-04, 8.33376602e-04,\n",
       "        4.09956730e-04, 1.33891052e-04, 1.39843309e-04, 3.03711626e-04,\n",
       "        8.87318611e-01, 2.37181280e-02]], dtype=float32)"
      ]
     },
     "execution_count": 18,
     "metadata": {},
     "output_type": "execute_result"
    }
   ],
   "source": [
    "y_pred = cnn_model.predict(x_test)\n",
    "y_pred[:3]"
   ]
  },
  {
   "cell_type": "code",
   "execution_count": 19,
   "id": "1803388e",
   "metadata": {},
   "outputs": [
    {
     "data": {
      "text/plain": [
       "[3, 8, 8]"
      ]
     },
     "execution_count": 19,
     "metadata": {},
     "output_type": "execute_result"
    }
   ],
   "source": [
    "y_classes = [np.argmax(element) for element in y_pred]\n",
    "y_classes[:3]"
   ]
  },
  {
   "cell_type": "code",
   "execution_count": 20,
   "id": "468545fc",
   "metadata": {},
   "outputs": [
    {
     "data": {
      "text/plain": [
       "array([3, 8, 8], dtype=uint8)"
      ]
     },
     "execution_count": 20,
     "metadata": {},
     "output_type": "execute_result"
    }
   ],
   "source": [
    "y_test[:3]"
   ]
  },
  {
   "cell_type": "code",
   "execution_count": 21,
   "id": "6f522b6f",
   "metadata": {},
   "outputs": [
    {
     "data": {
      "text/plain": [
       "'ship'"
      ]
     },
     "execution_count": 21,
     "metadata": {},
     "output_type": "execute_result"
    }
   ],
   "source": [
    "classes[y_classes[1]]"
   ]
  },
  {
   "cell_type": "code",
   "execution_count": 22,
   "id": "bb58451b",
   "metadata": {},
   "outputs": [
    {
     "name": "stdout",
     "output_type": "stream",
     "text": [
      "Classification Report: \n",
      "               precision    recall  f1-score   support\n",
      "\n",
      "           0       0.70      0.70      0.70      1000\n",
      "           1       0.71      0.81      0.75      1000\n",
      "           2       0.58      0.46      0.51      1000\n",
      "           3       0.47      0.40      0.43      1000\n",
      "           4       0.53      0.64      0.58      1000\n",
      "           5       0.51      0.59      0.55      1000\n",
      "           6       0.82      0.63      0.72      1000\n",
      "           7       0.69      0.71      0.70      1000\n",
      "           8       0.69      0.81      0.74      1000\n",
      "           9       0.75      0.65      0.69      1000\n",
      "\n",
      "    accuracy                           0.64     10000\n",
      "   macro avg       0.64      0.64      0.64     10000\n",
      "weighted avg       0.64      0.64      0.64     10000\n",
      "\n"
     ]
    }
   ],
   "source": [
    "print(\"Classification Report: \\n\", classification_report(y_test, y_classes))"
   ]
  },
  {
   "cell_type": "code",
   "execution_count": null,
   "id": "765b8324",
   "metadata": {},
   "outputs": [],
   "source": []
  }
 ],
 "metadata": {
  "kernelspec": {
   "display_name": "Python 3 (ipykernel)",
   "language": "python",
   "name": "python3"
  },
  "language_info": {
   "codemirror_mode": {
    "name": "ipython",
    "version": 3
   },
   "file_extension": ".py",
   "mimetype": "text/x-python",
   "name": "python",
   "nbconvert_exporter": "python",
   "pygments_lexer": "ipython3",
   "version": "3.11.3"
  }
 },
 "nbformat": 4,
 "nbformat_minor": 5
}
